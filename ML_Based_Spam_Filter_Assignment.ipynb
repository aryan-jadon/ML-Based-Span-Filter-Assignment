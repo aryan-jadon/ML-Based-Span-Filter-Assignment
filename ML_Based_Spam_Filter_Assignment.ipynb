{
  "nbformat": 4,
  "nbformat_minor": 0,
  "metadata": {
    "colab": {
      "name": "ML Based Spam Filter Assignment.ipynb",
      "provenance": [],
      "collapsed_sections": []
    },
    "kernelspec": {
      "name": "python3",
      "display_name": "Python 3"
    },
    "language_info": {
      "name": "python"
    }
  },
  "cells": [
    {
      "cell_type": "code",
      "metadata": {
        "id": "Lv0XgCZ9-poz"
      },
      "source": [
        "# importing libraries\n",
        "import pandas as pd\n",
        "import re\n",
        "from collections import OrderedDict\n",
        "from sklearn.feature_extraction.text import TfidfVectorizer\n",
        "from nltk.stem import PorterStemmer\n",
        "from nltk.tokenize import word_tokenize"
      ],
      "execution_count": 66,
      "outputs": []
    },
    {
      "cell_type": "code",
      "metadata": {
        "id": "eLk9rgnN-tY-"
      },
      "source": [
        "# creating the spam dictionary\n",
        "spam_dictionary_corpus = [\n",
        "    \"Free\", \n",
        "    \"Click\",\n",
        "    \"visit\",\n",
        "    \"open attachment\",  \n",
        "    \"call this number\",  \n",
        "    \"money\", \n",
        "    \"Out\", \n",
        "    \"extra\", \n",
        "    \"offer\",  \n",
        "    \"available\",  \n",
        "    \"Pension\",  \n",
        "    \"Opportunity\", \n",
        "    \"Chance\", \n",
        "    \"Investment\", \n",
        "    \"Pension\"\n",
        "]"
      ],
      "execution_count": 67,
      "outputs": []
    },
    {
      "cell_type": "code",
      "metadata": {
        "colab": {
          "base_uri": "https://localhost:8080/"
        },
        "id": "wCOxx-aBPXo3",
        "outputId": "a04898b9-cd2f-47e8-d8b5-da24dad656d1"
      },
      "source": [
        "# stemmizing the spam dict \n",
        "ps = PorterStemmer()\n",
        "\n",
        "# converting spam dict in lower cases and stemming\n",
        "for index,value in enumerate(spam_dictionary_corpus):\n",
        "  spam_dictionary_corpus[index] = spam_dictionary_corpus[index].lower()\n",
        "  spam_dictionary_corpus[index] = ps.stem(spam_dictionary_corpus[index])\n",
        "\n",
        "print(spam_dictionary_corpus)\n"
      ],
      "execution_count": 68,
      "outputs": [
        {
          "output_type": "stream",
          "name": "stdout",
          "text": [
            "['free', 'click', 'visit', 'open attach', 'call this numb', 'money', 'out', 'extra', 'offer', 'avail', 'pension', 'opportun', 'chanc', 'invest', 'pension']\n"
          ]
        }
      ]
    },
    {
      "cell_type": "markdown",
      "metadata": {
        "id": "Fem9MMdPy6mn"
      },
      "source": [
        "### ALL Documents "
      ]
    },
    {
      "cell_type": "code",
      "metadata": {
        "id": "T0XNdOq2_EH2"
      },
      "source": [
        "document_1 = \"Free-Coupons for next movie. The above links will take you straight to our partner's site. For more information or to see other offers available, you can also visit the Groupon on the Working Advantage website.\"\n",
        "document_2 = \"Free-Coupons for next movie. The above links will take you straight to our partner's site. For more information or to see other offers available, you can also visit the Groupon on the Working Advantage website.\"\n",
        "document_3 = \"Our records indicate your Pension is under performing to see higher  growth and up to 25% cash release reply PENSION for a free review. To opt out reply STOP.\" \n",
        "\n",
        "document_4 = '''\n",
        "Enter to win $25,000 and get a Free Hotel Night! \n",
        "Just click here for a $1 trial membership in NetMarket, \n",
        "the  Internet'spremier discount shopping site:\n",
        "Fast Company EZVenture gives you FREE business \n",
        "articles,PLUS, you could win YOUR CHOICE of a BMW Z3 \n",
        "convertible, $100,000, shares of Microsoft stock, or a \n",
        "home office computer. Go there and get your chances to \n",
        "win now. \n",
        "A crazy-funny-cool trivia book with a $10,000 prize? \n",
        "PLUS chocolate, nail polish, cats, barnyard animals, \n",
        "and more?\n",
        "'''\n",
        "\n",
        "document_5 = '''\n",
        "Dear recipient, \n",
        "Avangar Technologies announces the beginning of a new \n",
        "unprecendented global employment campaign.  \n",
        "Due to company's exploding growth Avangar is expanding \n",
        "business to the European region. \n",
        "During last employment campaign over 1500 people worldwide \n",
        "took part in Avangar's business \n",
        "and more than half of them are currently employed by the \n",
        "company. And now we are offering you \n",
        "one more opportunity to earn extra money working with Avangar \n",
        "Technologies. \n",
        " \n",
        "We are looking for honest, responsible, hard-working people that \n",
        "can dedicate 2-4 hours of their \n",
        "time per day and earn extra Â £300-500 weekly. All offered \n",
        "positions are currently part-time \n",
        "and give you a chance to work mainly from home. \n",
        "'''\n",
        "\n",
        "document_6 = '''\n",
        "I know that's an incredible statement, but bear with me \n",
        "while I explain. You have already deleted mail from \n",
        "dozens of \"Get Rich Quick\" schemes, chain letter \n",
        "offers, and LOTS of other absurd scams that promise to \n",
        "make you rich overnight with no investment and no work. \n",
        " \n",
        "My offer isn't one of those. What I'm offering is a  \n",
        "straightforward computer-based service that you can run \n",
        "full-or part-time like a regular business. This service \n",
        "runs auto-matically while you sleep, vacation, or work \n",
        "a \"regular\" job. It provides a valuable new service for \n",
        "businesses in your area. \n",
        " \n",
        "I'm offering a high-tech, low-maintenance, work-from-\n",
        "anywhere business that can bring in a nice comfortable \n",
        "additional income for your family. I did it for eight \n",
        "years. Since I started inviting others to join me, I've \n",
        "helped over 4000 do the same. \n",
        "'''\n",
        "\n",
        "# preprocessing all docs , removing alphanumeric chars \n",
        "\n",
        "document_1 = document_1.lower()\n",
        "document_2 = document_2.lower()\n",
        "document_3 = document_3.lower()\n",
        "document_4 = document_4.lower()\n",
        "document_5 = document_5.lower()\n",
        "document_6 = document_6.lower()\n",
        "\n",
        "document_1 = re.sub(\"[^0-9a-zA-Z]+\", \" \", document_1)\n",
        "document_2 = re.sub(\"[^0-9a-zA-Z]+\", \" \", document_2)\n",
        "document_3 = re.sub(\"[^0-9a-zA-Z]+\", \" \", document_3)\n",
        "document_4 = re.sub(\"[^0-9a-zA-Z]+\", \" \", document_4)\n",
        "document_5 = re.sub(\"[^0-9a-zA-Z]+\", \" \", document_5)\n",
        "document_6 = re.sub(\"[^0-9a-zA-Z]+\", \" \", document_6)\n",
        "\n",
        "\n",
        "bag_words_doc_1 = document_1.split(' ')\n",
        "bag_words_doc_2 = document_2.split(' ')\n",
        "bag_words_doc_3 = document_3.split(' ')\n",
        "bag_words_doc_4 = document_4.split(' ')\n",
        "bag_words_doc_5 = document_5.split(' ')\n",
        "bag_words_doc_6 = document_6.split(' ')\n",
        "\n"
      ],
      "execution_count": 69,
      "outputs": []
    },
    {
      "cell_type": "markdown",
      "metadata": {
        "id": "bzUG_3tCzG6y"
      },
      "source": [
        "### Stemming all words in documents"
      ]
    },
    {
      "cell_type": "code",
      "metadata": {
        "id": "XAvvTB8kdScR"
      },
      "source": [
        "for index,value in enumerate(bag_words_doc_1):\n",
        "  bag_words_doc_1[index] = ps.stem(bag_words_doc_1[index])\n",
        "\n",
        "for index,value in enumerate(bag_words_doc_2):\n",
        "  bag_words_doc_2[index] = ps.stem(bag_words_doc_2[index])\n",
        "\n",
        "for index,value in enumerate(bag_words_doc_3):\n",
        "  bag_words_doc_3[index] = ps.stem(bag_words_doc_3[index])\n",
        "\n",
        "for index,value in enumerate(bag_words_doc_4):\n",
        "  bag_words_doc_4[index] = ps.stem(bag_words_doc_4[index])\n",
        "\n",
        "for index,value in enumerate(bag_words_doc_5):\n",
        "  bag_words_doc_5[index] = ps.stem(bag_words_doc_5[index])\n",
        "\n",
        "for index,value in enumerate(bag_words_doc_6):\n",
        "  bag_words_doc_6[index] = ps.stem(bag_words_doc_6[index])\n",
        "\n"
      ],
      "execution_count": 70,
      "outputs": []
    },
    {
      "cell_type": "code",
      "metadata": {
        "id": "INkfBbr0Y7g6"
      },
      "source": [
        "# creating dict using spam dictionary \n",
        "num_of_words_1 = OrderedDict((k, 0) for k in spam_dictionary_corpus)\n",
        "num_of_words_2 = OrderedDict((k, 0) for k in spam_dictionary_corpus)\n",
        "num_of_words_3 = OrderedDict((k, 0) for k in spam_dictionary_corpus)\n",
        "num_of_words_4 = OrderedDict((k, 0) for k in spam_dictionary_corpus)\n",
        "num_of_words_5 = OrderedDict((k, 0) for k in spam_dictionary_corpus)\n",
        "num_of_words_6 = OrderedDict((k, 0) for k in spam_dictionary_corpus)\n"
      ],
      "execution_count": 71,
      "outputs": []
    },
    {
      "cell_type": "code",
      "metadata": {
        "id": "PXVaEIy7Y4QG"
      },
      "source": [
        "# adding words count \n",
        "for word in bag_words_doc_1:\n",
        "  if word in num_of_words_1:\n",
        "    num_of_words_1[word] += 1\n",
        "\n",
        "for word in bag_words_doc_2:\n",
        "  if word in num_of_words_2:\n",
        "    num_of_words_2[word] += 1\n",
        "\n",
        "for word in bag_words_doc_3:\n",
        "  if word in num_of_words_3:\n",
        "    num_of_words_3[word] += 1\n",
        "\n",
        "\n",
        "for word in bag_words_doc_4:\n",
        "  if word in num_of_words_4:\n",
        "    num_of_words_4[word] += 1\n",
        "\n",
        "for word in bag_words_doc_5:\n",
        "  if word in num_of_words_5:\n",
        "    num_of_words_5[word] += 1\n",
        "\n",
        "for word in bag_words_doc_6:\n",
        "  if word in num_of_words_6:\n",
        "    num_of_words_6[word] += 1\n"
      ],
      "execution_count": 72,
      "outputs": []
    },
    {
      "cell_type": "markdown",
      "metadata": {
        "id": "anzwnv0V1fMC"
      },
      "source": [
        "## Functions"
      ]
    },
    {
      "cell_type": "code",
      "metadata": {
        "id": "eN5Ig04hTdkX"
      },
      "source": [
        "import math\n",
        "from copy import deepcopy\n",
        "\n",
        "def computeTF(OwordDict):\n",
        "  wordDict = deepcopy(OwordDict)\n",
        "  for key, values in wordDict.items():\n",
        "    if values != 0:\n",
        "      first_part = 1+ math.log10(values)\n",
        "      total_value = 1+ math.log10(first_part)\n",
        "      wordDict[key] = total_value\n",
        "\n",
        "  return wordDict\n",
        "\n",
        "def computeIDF(documents):\n",
        "    N = len(documents)\n",
        "    # idfDict = dict.fromkeys(documents[0].keys(), 0)\n",
        "    idfDict = OrderedDict((k, 0) for k in documents[0])\n",
        "    for document in documents:\n",
        "        for word, val in document.items():\n",
        "            if val > 0:\n",
        "                idfDict[word] += 1\n",
        "    \n",
        "    for word, val in idfDict.items():\n",
        "      if val > 0:\n",
        "        idfDict[word] = math.log10((1+N)/float(val))\n",
        "\n",
        "    return idfDict\n",
        "\n",
        "def computeTFIDF(tfBagOfWords, idfs):\n",
        "    tfidf = {}\n",
        "    for word, val in tfBagOfWords.items():\n",
        "        tfidf[word] = val * idfs[word]\n",
        "    return tfidf"
      ],
      "execution_count": 73,
      "outputs": []
    },
    {
      "cell_type": "markdown",
      "metadata": {
        "id": "nu8bAYHr1khu"
      },
      "source": [
        "### Computing TF"
      ]
    },
    {
      "cell_type": "code",
      "metadata": {
        "id": "q8Ktb7kiYdgG"
      },
      "source": [
        "tf_doc_1 = computeTF(num_of_words_1)\n",
        "tf_doc_2 = computeTF(num_of_words_2)\n",
        "tf_doc_3 = computeTF(num_of_words_3)\n",
        "tf_doc_4 = computeTF(num_of_words_4)\n",
        "tf_doc_5 = computeTF(num_of_words_5)\n",
        "tf_doc_6 = computeTF(num_of_words_6)"
      ],
      "execution_count": 74,
      "outputs": []
    },
    {
      "cell_type": "code",
      "metadata": {
        "colab": {
          "base_uri": "https://localhost:8080/"
        },
        "id": "u1LkYsWMwpbq",
        "outputId": "e00315d8-b5ff-4afd-ae71-cc366eb51498"
      },
      "source": [
        "num_of_words_5"
      ],
      "execution_count": 75,
      "outputs": [
        {
          "output_type": "execute_result",
          "data": {
            "text/plain": [
              "OrderedDict([('free', 0),\n",
              "             ('click', 0),\n",
              "             ('visit', 0),\n",
              "             ('open attach', 0),\n",
              "             ('call this numb', 0),\n",
              "             ('money', 1),\n",
              "             ('out', 0),\n",
              "             ('extra', 2),\n",
              "             ('offer', 2),\n",
              "             ('avail', 0),\n",
              "             ('pension', 0),\n",
              "             ('opportun', 1),\n",
              "             ('chanc', 1),\n",
              "             ('invest', 0)])"
            ]
          },
          "metadata": {},
          "execution_count": 75
        }
      ]
    },
    {
      "cell_type": "code",
      "metadata": {
        "colab": {
          "base_uri": "https://localhost:8080/"
        },
        "id": "2TpYRfb6wcMn",
        "outputId": "9bf10b9a-9032-4c3a-f292-d0d817e08a1c"
      },
      "source": [
        "tf_doc_6"
      ],
      "execution_count": 76,
      "outputs": [
        {
          "output_type": "execute_result",
          "data": {
            "text/plain": [
              "OrderedDict([('free', 0),\n",
              "             ('click', 0),\n",
              "             ('visit', 0),\n",
              "             ('open attach', 0),\n",
              "             ('call this numb', 0),\n",
              "             ('money', 0),\n",
              "             ('out', 0),\n",
              "             ('extra', 0),\n",
              "             ('offer', 1.2046787748036982),\n",
              "             ('avail', 0),\n",
              "             ('pension', 0),\n",
              "             ('opportun', 0),\n",
              "             ('chanc', 0),\n",
              "             ('invest', 1.0)])"
            ]
          },
          "metadata": {},
          "execution_count": 76
        }
      ]
    },
    {
      "cell_type": "markdown",
      "metadata": {
        "id": "slTGr2ah13Zb"
      },
      "source": [
        "### Computing IDF"
      ]
    },
    {
      "cell_type": "code",
      "metadata": {
        "id": "TuOcodhTvFrI"
      },
      "source": [
        "idfs = computeIDF([num_of_words_1, \n",
        "                   num_of_words_2,\n",
        "                   num_of_words_3,\n",
        "                   num_of_words_4,\n",
        "                   num_of_words_5,\n",
        "                   num_of_words_6])"
      ],
      "execution_count": 77,
      "outputs": []
    },
    {
      "cell_type": "code",
      "metadata": {
        "colab": {
          "base_uri": "https://localhost:8080/"
        },
        "id": "1Map7AIM0kEe",
        "outputId": "1a18327b-10d8-46b7-e4d5-f158788ca865"
      },
      "source": [
        "idfs"
      ],
      "execution_count": 78,
      "outputs": [
        {
          "output_type": "execute_result",
          "data": {
            "text/plain": [
              "OrderedDict([('free', 0.24303804868629442),\n",
              "             ('click', 0.8450980400142568),\n",
              "             ('visit', 0.5440680443502757),\n",
              "             ('open attach', 0),\n",
              "             ('call this numb', 0),\n",
              "             ('money', 0.8450980400142568),\n",
              "             ('out', 0.8450980400142568),\n",
              "             ('extra', 0.8450980400142568),\n",
              "             ('offer', 0.24303804868629442),\n",
              "             ('avail', 0.5440680443502757),\n",
              "             ('pension', 0.8450980400142568),\n",
              "             ('opportun', 0.8450980400142568),\n",
              "             ('chanc', 0.5440680443502757),\n",
              "             ('invest', 0.8450980400142568)])"
            ]
          },
          "metadata": {},
          "execution_count": 78
        }
      ]
    },
    {
      "cell_type": "markdown",
      "metadata": {
        "id": "d-7Nj0xc154F"
      },
      "source": [
        "## COMPUTING TF-IDF"
      ]
    },
    {
      "cell_type": "code",
      "metadata": {
        "id": "ka66QvUsdB5y"
      },
      "source": [
        "tfidfA = computeTFIDF(tf_doc_1, idfs)\n",
        "tfidfB = computeTFIDF(tf_doc_2, idfs)\n",
        "tfidfC = computeTFIDF(tf_doc_3, idfs)\n",
        "tfidfD = computeTFIDF(tf_doc_4, idfs)\n",
        "tfidfE = computeTFIDF(tf_doc_5, idfs)\n",
        "tfidfF = computeTFIDF(tf_doc_6, idfs)\n",
        "\n",
        "final_df = pd.DataFrame([tfidfA, \n",
        "                   tfidfB,\n",
        "                   tfidfC,\n",
        "                   tfidfD,\n",
        "                   tfidfE,\n",
        "                   tfidfF,\n",
        "                   ])\n"
      ],
      "execution_count": 79,
      "outputs": []
    },
    {
      "cell_type": "code",
      "metadata": {
        "id": "uq6Y4ESCd07L"
      },
      "source": [
        "final_df[\"Total Sum\"] = final_df.sum(axis=1)"
      ],
      "execution_count": 80,
      "outputs": []
    },
    {
      "cell_type": "code",
      "metadata": {
        "id": "AkQsPv9Nj5JD"
      },
      "source": [
        "final_df[\"Document Name\"] = [\"Document 1\",\n",
        "                             \"Document 2\",\n",
        "                             \"Document 3\",\n",
        "                             \"Document 4\",\n",
        "                             \"Document 5\",\n",
        "                             \"Document 6\"\n",
        "                             ]"
      ],
      "execution_count": 81,
      "outputs": []
    },
    {
      "cell_type": "code",
      "metadata": {
        "colab": {
          "base_uri": "https://localhost:8080/",
          "height": 235
        },
        "id": "bddBILqo6Z5q",
        "outputId": "9dd59b06-8238-4f64-8dd6-89dde6c7be6d"
      },
      "source": [
        "final_df.sort_values(\"Total Sum\", ascending=False)"
      ],
      "execution_count": 82,
      "outputs": [
        {
          "output_type": "execute_result",
          "data": {
            "text/html": [
              "<div>\n",
              "<style scoped>\n",
              "    .dataframe tbody tr th:only-of-type {\n",
              "        vertical-align: middle;\n",
              "    }\n",
              "\n",
              "    .dataframe tbody tr th {\n",
              "        vertical-align: top;\n",
              "    }\n",
              "\n",
              "    .dataframe thead th {\n",
              "        text-align: right;\n",
              "    }\n",
              "</style>\n",
              "<table border=\"1\" class=\"dataframe\">\n",
              "  <thead>\n",
              "    <tr style=\"text-align: right;\">\n",
              "      <th></th>\n",
              "      <th>free</th>\n",
              "      <th>click</th>\n",
              "      <th>visit</th>\n",
              "      <th>open attach</th>\n",
              "      <th>call this numb</th>\n",
              "      <th>money</th>\n",
              "      <th>out</th>\n",
              "      <th>extra</th>\n",
              "      <th>offer</th>\n",
              "      <th>avail</th>\n",
              "      <th>pension</th>\n",
              "      <th>opportun</th>\n",
              "      <th>chanc</th>\n",
              "      <th>invest</th>\n",
              "      <th>Total Sum</th>\n",
              "      <th>Document Name</th>\n",
              "    </tr>\n",
              "  </thead>\n",
              "  <tbody>\n",
              "    <tr>\n",
              "      <th>4</th>\n",
              "      <td>0.000000</td>\n",
              "      <td>0.000000</td>\n",
              "      <td>0.000000</td>\n",
              "      <td>0</td>\n",
              "      <td>0</td>\n",
              "      <td>0.845098</td>\n",
              "      <td>0.000000</td>\n",
              "      <td>0.941682</td>\n",
              "      <td>0.270814</td>\n",
              "      <td>0.000000</td>\n",
              "      <td>0.000000</td>\n",
              "      <td>0.845098</td>\n",
              "      <td>0.544068</td>\n",
              "      <td>0.000000</td>\n",
              "      <td>3.446760</td>\n",
              "      <td>Document 5</td>\n",
              "    </tr>\n",
              "    <tr>\n",
              "      <th>2</th>\n",
              "      <td>0.243038</td>\n",
              "      <td>0.000000</td>\n",
              "      <td>0.000000</td>\n",
              "      <td>0</td>\n",
              "      <td>0</td>\n",
              "      <td>0.000000</td>\n",
              "      <td>0.845098</td>\n",
              "      <td>0.000000</td>\n",
              "      <td>0.000000</td>\n",
              "      <td>0.000000</td>\n",
              "      <td>0.941682</td>\n",
              "      <td>0.000000</td>\n",
              "      <td>0.000000</td>\n",
              "      <td>0.000000</td>\n",
              "      <td>2.029818</td>\n",
              "      <td>Document 3</td>\n",
              "    </tr>\n",
              "    <tr>\n",
              "      <th>3</th>\n",
              "      <td>0.270814</td>\n",
              "      <td>0.845098</td>\n",
              "      <td>0.000000</td>\n",
              "      <td>0</td>\n",
              "      <td>0</td>\n",
              "      <td>0.000000</td>\n",
              "      <td>0.000000</td>\n",
              "      <td>0.000000</td>\n",
              "      <td>0.000000</td>\n",
              "      <td>0.000000</td>\n",
              "      <td>0.000000</td>\n",
              "      <td>0.000000</td>\n",
              "      <td>0.544068</td>\n",
              "      <td>0.000000</td>\n",
              "      <td>1.659980</td>\n",
              "      <td>Document 4</td>\n",
              "    </tr>\n",
              "    <tr>\n",
              "      <th>0</th>\n",
              "      <td>0.243038</td>\n",
              "      <td>0.000000</td>\n",
              "      <td>0.544068</td>\n",
              "      <td>0</td>\n",
              "      <td>0</td>\n",
              "      <td>0.000000</td>\n",
              "      <td>0.000000</td>\n",
              "      <td>0.000000</td>\n",
              "      <td>0.243038</td>\n",
              "      <td>0.544068</td>\n",
              "      <td>0.000000</td>\n",
              "      <td>0.000000</td>\n",
              "      <td>0.000000</td>\n",
              "      <td>0.000000</td>\n",
              "      <td>1.574212</td>\n",
              "      <td>Document 1</td>\n",
              "    </tr>\n",
              "    <tr>\n",
              "      <th>1</th>\n",
              "      <td>0.243038</td>\n",
              "      <td>0.000000</td>\n",
              "      <td>0.544068</td>\n",
              "      <td>0</td>\n",
              "      <td>0</td>\n",
              "      <td>0.000000</td>\n",
              "      <td>0.000000</td>\n",
              "      <td>0.000000</td>\n",
              "      <td>0.243038</td>\n",
              "      <td>0.544068</td>\n",
              "      <td>0.000000</td>\n",
              "      <td>0.000000</td>\n",
              "      <td>0.000000</td>\n",
              "      <td>0.000000</td>\n",
              "      <td>1.574212</td>\n",
              "      <td>Document 2</td>\n",
              "    </tr>\n",
              "    <tr>\n",
              "      <th>5</th>\n",
              "      <td>0.000000</td>\n",
              "      <td>0.000000</td>\n",
              "      <td>0.000000</td>\n",
              "      <td>0</td>\n",
              "      <td>0</td>\n",
              "      <td>0.000000</td>\n",
              "      <td>0.000000</td>\n",
              "      <td>0.000000</td>\n",
              "      <td>0.292783</td>\n",
              "      <td>0.000000</td>\n",
              "      <td>0.000000</td>\n",
              "      <td>0.000000</td>\n",
              "      <td>0.000000</td>\n",
              "      <td>0.845098</td>\n",
              "      <td>1.137881</td>\n",
              "      <td>Document 6</td>\n",
              "    </tr>\n",
              "  </tbody>\n",
              "</table>\n",
              "</div>"
            ],
            "text/plain": [
              "       free     click     visit  ...    invest  Total Sum  Document Name\n",
              "4  0.000000  0.000000  0.000000  ...  0.000000   3.446760     Document 5\n",
              "2  0.243038  0.000000  0.000000  ...  0.000000   2.029818     Document 3\n",
              "3  0.270814  0.845098  0.000000  ...  0.000000   1.659980     Document 4\n",
              "0  0.243038  0.000000  0.544068  ...  0.000000   1.574212     Document 1\n",
              "1  0.243038  0.000000  0.544068  ...  0.000000   1.574212     Document 2\n",
              "5  0.000000  0.000000  0.000000  ...  0.845098   1.137881     Document 6\n",
              "\n",
              "[6 rows x 16 columns]"
            ]
          },
          "metadata": {},
          "execution_count": 82
        }
      ]
    },
    {
      "cell_type": "markdown",
      "metadata": {
        "id": "XreiSEPe659a"
      },
      "source": [
        "## Conclusion - Document 5,3,4 have most spamming keywords and can be classified as SPAMS"
      ]
    },
    {
      "cell_type": "code",
      "metadata": {
        "id": "A9G7kIZU6m-Q"
      },
      "source": [
        ""
      ],
      "execution_count": 82,
      "outputs": []
    }
  ]
}